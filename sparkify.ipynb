{
 "cells": [
  {
   "cell_type": "markdown",
   "metadata": {},
   "source": [
    "# Project Definition"
   ]
  },
  {
   "cell_type": "markdown",
   "metadata": {},
   "source": [
    "## Project Overview"
   ]
  },
  {
   "cell_type": "markdown",
   "metadata": {},
   "source": [
    "Imagine you are working as a data scientist for a popular digital media provider such as Spotify. Many of users stream their favorite songs to your service every day either using a free tier that places ads between the songs or the premium tier that charges a flat monthly rate. users can upgrade, downgrade or cancel their services any time, so it's crucial to make sure that they love the service.\n",
    "\n",
    "Everytime a user interacts with the service while they're playing a song, logging out, watching an ad etc, it generates data. All of this data contains the key insights for keeping your users happy and helping your business thrive. It's your job as a Data Scientist to predict when a user is likely to churn, which either means downgrading from premium or cancelling their service all together.\n",
    "\n"
   ]
  },
  {
   "cell_type": "markdown",
   "metadata": {},
   "source": [
    "### Problem Statement\n",
    "If you can accurately identify these users before they leave, you will be able to offer them incentives to keep them as a customer for longer, potentially saving your business tons of money in revenue.\n",
    "\n",
    "To tackle this project, we are given a medium sized data set (half a million rows) that contains the events we mentioned above. We need to load, clean and explore the data with Spark.\n",
    "\n",
    "We will build features from the data and train machine learning models to predict which users will churn from our digital music library. "
   ]
  },
  {
   "cell_type": "markdown",
   "metadata": {},
   "source": [
    "### Metrics \n",
    "\n",
    "As you will see, the number of users who churn are small compared to the total number of users. In this case, accuracy cannot be a good metric for evaluating the performance of our model, since an untrained model could predict that not a single user will churn and still get a good accuracy score (~80%) since the model is right for the case of the majority of users who don't churn.\n",
    "\n",
    "For this reason, we will be using F1 score which is a function of precision and recall, and punished type I and type II errors equally. \n",
    "\n"
   ]
  },
  {
   "cell_type": "markdown",
   "metadata": {},
   "source": [
    "# Analysis"
   ]
  },
  {
   "cell_type": "code",
   "execution_count": 1,
   "metadata": {},
   "outputs": [
    {
     "name": "stdout",
     "output_type": "stream",
     "text": [
      "Waiting for a Spark session to start...\n",
      "Spark Initialization Done! ApplicationId = app-20190806224425-0000\n",
      "KERNEL_ID = a2a6e83b-0d2f-4c67-8044-28eb1830e307\n"
     ]
    }
   ],
   "source": [
    "\n",
    "import ibmos2spark\n",
    "# @hidden_cell\n",
    "credentials = {\n",
    "    'endpoint': 'https://s3-api.us-geo.objectstorage.service.networklayer.com',\n",
    "    'service_id': 'iam-ServiceId-3b47280a-b98d-451e-b74b-5bfd0ae9d223',\n",
    "    'iam_service_endpoint': 'https://iam.ng.bluemix.net/oidc/token',\n",
    "    'api_key': 'AHPuO1llG7iDCc-k_7LYWK41DDtN3k_spCOqxSCSlH5z'\n",
    "}\n",
    "\n",
    "configuration_name = 'os_0a3bc7356d414e1989a7ebc516f1e2fe_configs'\n",
    "cos = ibmos2spark.CloudObjectStorage(sc, credentials, configuration_name, 'bluemix_cos')\n",
    "\n",
    "from pyspark.sql import SparkSession\n",
    "spark = SparkSession.builder.getOrCreate()\n",
    "# Since JSON data can be semi-structured and contain additional metadata, it is possible that you might face issues with the DataFrame layout.\n",
    "# Please read the documentation of 'SparkSession.read()' to learn more about the possibilities to adjust the data loading.\n",
    "# PySpark documentation: http://spark.apache.org/docs/2.0.2/api/python/pyspark.sql.html#pyspark.sql.DataFrameReader.json\n",
    "\n",
    "# df_data_1 = spark.read.json(cos.url('medium-sparkify-event-data.json', 'sparkify-donotdelete-pr-krujxod0bfnnvr'))\n",
    "# df_data_1.take(5)\n"
   ]
  },
  {
   "cell_type": "code",
   "execution_count": 2,
   "metadata": {},
   "outputs": [],
   "source": [
    "# import libraries\n",
    "from pyspark.sql import SparkSession\n",
    "from pyspark.sql.functions import avg, col, concat, desc, explode, lit, min, max, split, udf, isnull\n",
    "from pyspark.sql.types import IntegerType\n",
    "\n",
    "from pyspark.ml.classification import LogisticRegression, RandomForestClassifier, DecisionTreeClassifier\n",
    "from pyspark.ml.evaluation import MulticlassClassificationEvaluator\n",
    "from pyspark.ml.regression import LinearRegression\n",
    "from pyspark.ml.tuning import CrossValidator, ParamGridBuilder\n",
    "from pyspark.mllib.evaluation import BinaryClassificationMetrics\n",
    "from pyspark.mllib.evaluation import MulticlassMetrics\n",
    "\n",
    "import datetime\n",
    "import matplotlib.pyplot as plt\n",
    "import pandas as pd\n",
    "import seaborn as sns"
   ]
  },
  {
   "cell_type": "code",
   "execution_count": 3,
   "metadata": {},
   "outputs": [],
   "source": [
    "# create a Spark session\n",
    "spark = SparkSession \\\n",
    "    .builder \\\n",
    "    .appName(\"Spark Project\") \\\n",
    "    .getOrCreate()"
   ]
  },
  {
   "cell_type": "code",
   "execution_count": 13,
   "metadata": {},
   "outputs": [],
   "source": [
    "data = spark.read.json(cos.url('medium-sparkify-event-data.json', 'sparkify-donotdelete-pr-krujxod0bfnnvr'))"
   ]
  },
  {
   "cell_type": "markdown",
   "metadata": {},
   "source": [
    "## Data Exploration"
   ]
  },
  {
   "cell_type": "markdown",
   "metadata": {},
   "source": [
    "Let's look at the first few rows of the data. Spark dataframes will show in a different format compared to pandas dataframes"
   ]
  },
  {
   "cell_type": "code",
   "execution_count": 14,
   "metadata": {},
   "outputs": [
    {
     "data": {
      "text/plain": [
       "[Row(artist='Martin Orford', auth='Logged In', firstName='Joseph', gender='M', itemInSession=20, lastName='Morales', length=597.55057, level='free', location='Corpus Christi, TX', method='PUT', page='NextSong', registration=1532063507000, sessionId=292, song='Grand Designs', status=200, ts=1538352011000, userAgent='\"Mozilla/5.0 (Macintosh; Intel Mac OS X 10_9_4) AppleWebKit/537.36 (KHTML, like Gecko) Chrome/36.0.1985.125 Safari/537.36\"', userId='293'),\n",
       " Row(artist=\"John Brown's Body\", auth='Logged In', firstName='Sawyer', gender='M', itemInSession=74, lastName='Larson', length=380.21179, level='free', location='Houston-The Woodlands-Sugar Land, TX', method='PUT', page='NextSong', registration=1538069638000, sessionId=97, song='Bulls', status=200, ts=1538352025000, userAgent='\"Mozilla/5.0 (Macintosh; Intel Mac OS X 10_9_4) AppleWebKit/537.36 (KHTML, like Gecko) Chrome/36.0.1985.143 Safari/537.36\"', userId='98')]"
      ]
     },
     "execution_count": 14,
     "metadata": {},
     "output_type": "execute_result"
    }
   ],
   "source": [
    "data.take(2)"
   ]
  },
  {
   "cell_type": "code",
   "execution_count": 15,
   "metadata": {},
   "outputs": [
    {
     "name": "stdout",
     "output_type": "stream",
     "text": [
      "(543705, 18)\n"
     ]
    }
   ],
   "source": [
    "print((data.count(), len(data.columns)))"
   ]
  },
  {
   "cell_type": "code",
   "execution_count": 16,
   "metadata": {},
   "outputs": [
    {
     "name": "stdout",
     "output_type": "stream",
     "text": [
      "+----------+\n",
      "|      auth|\n",
      "+----------+\n",
      "|Logged Out|\n",
      "| Cancelled|\n",
      "|     Guest|\n",
      "| Logged In|\n",
      "+----------+\n",
      "\n"
     ]
    }
   ],
   "source": [
    "data.select('auth').dropDuplicates().show()"
   ]
  },
  {
   "cell_type": "code",
   "execution_count": 18,
   "metadata": {},
   "outputs": [
    {
     "name": "stdout",
     "output_type": "stream",
     "text": [
      "+------+---------+-----------+\n",
      "|userId|sessionid|       page|\n",
      "+------+---------+-----------+\n",
      "|      |        1|       Home|\n",
      "|      |        1|       Home|\n",
      "|      |        1|       Home|\n",
      "|      |        1|       Home|\n",
      "|      |        1|      Login|\n",
      "|100001|        1|       Home|\n",
      "|100001|        1|   NextSong|\n",
      "|100001|        1|   NextSong|\n",
      "|100001|        1|   NextSong|\n",
      "|100001|        1|   NextSong|\n",
      "|100001|        1|   NextSong|\n",
      "|100001|        1|   NextSong|\n",
      "|100001|        1|   NextSong|\n",
      "|100001|        1|   NextSong|\n",
      "|100001|        1|Roll Advert|\n",
      "|100001|        1|    Upgrade|\n",
      "|100001|        1|   NextSong|\n",
      "|100001|        1|   NextSong|\n",
      "|100001|        1|   NextSong|\n",
      "|100001|        1|Roll Advert|\n",
      "+------+---------+-----------+\n",
      "only showing top 20 rows\n",
      "\n"
     ]
    }
   ],
   "source": [
    "data.select(['userId','sessionid','page']).where(data['sessionid']==1).sort(['userId','sessionId','iteminsession']).show()"
   ]
  },
  {
   "cell_type": "markdown",
   "metadata": {},
   "source": [
    "By filtering the data to see the user id as well as the pages that they have visited, We can see that the users who have an empty user id have only visited these pages: \"Logged Out\", \"Cancelled\", \"Guest\", \"Logged In\"\n",
    "\n",
    "Also, on their first interaction with our service, they have either visited Home page or Login page\n",
    "\n",
    "Given their behaviour we can guess that these users are the unregistered users, and they can be dropped from the dataset without losing any critical information about churn rate of other users"
   ]
  },
  {
   "cell_type": "code",
   "execution_count": 19,
   "metadata": {},
   "outputs": [],
   "source": [
    "data = data.where(data['userid'] != '')"
   ]
  },
  {
   "cell_type": "code",
   "execution_count": 20,
   "metadata": {},
   "outputs": [
    {
     "data": {
      "text/plain": [
       "528005"
      ]
     },
     "execution_count": 20,
     "metadata": {},
     "output_type": "execute_result"
    }
   ],
   "source": [
    "data.count()"
   ]
  },
  {
   "cell_type": "markdown",
   "metadata": {},
   "source": [
    "We can see that some rows have been dropped and the dataframe is slightly smaller now."
   ]
  },
  {
   "cell_type": "markdown",
   "metadata": {},
   "source": [
    "## Data Visualization"
   ]
  },
  {
   "cell_type": "markdown",
   "metadata": {},
   "source": [
    "**Definition of Churn in our Analysis**\n",
    "\n",
    "Before we move on to further exploring the data, we need to define what churn means from our point of view. \n",
    "\n",
    "**a basis, we define churn the occurrence of the event of \"Cancellation Confirmation\" by any user who is using Sparkify service. This user can be using the premium or free service**\n",
    "\n",
    "This definition suits the problem statement given that both free users and premium users can make us money in one way or another (ads or fees), so as long as they stay on the platform, the business should be happy"
   ]
  },
  {
   "cell_type": "markdown",
   "metadata": {},
   "source": [
    "Let's look at the values that appear under the \"page\" column"
   ]
  },
  {
   "cell_type": "code",
   "execution_count": 21,
   "metadata": {},
   "outputs": [
    {
     "data": {
      "text/plain": [
       "[Row(page='Cancel'),\n",
       " Row(page='Submit Downgrade'),\n",
       " Row(page='Thumbs Down'),\n",
       " Row(page='Home'),\n",
       " Row(page='Downgrade'),\n",
       " Row(page='Roll Advert'),\n",
       " Row(page='Logout'),\n",
       " Row(page='Save Settings'),\n",
       " Row(page='Cancellation Confirmation'),\n",
       " Row(page='About'),\n",
       " Row(page='Settings'),\n",
       " Row(page='Add to Playlist'),\n",
       " Row(page='Add Friend'),\n",
       " Row(page='NextSong'),\n",
       " Row(page='Thumbs Up'),\n",
       " Row(page='Help'),\n",
       " Row(page='Upgrade'),\n",
       " Row(page='Error'),\n",
       " Row(page='Submit Upgrade')]"
      ]
     },
     "execution_count": 21,
     "metadata": {},
     "output_type": "execute_result"
    }
   ],
   "source": [
    "data.select('page').dropDuplicates().collect()"
   ]
  },
  {
   "cell_type": "markdown",
   "metadata": {},
   "source": [
    "It looks like there are two values for cancellation. Based on our definition of churn, we are interested in users who have completed \"Cancellation Confirmation\" step"
   ]
  },
  {
   "cell_type": "code",
   "execution_count": 22,
   "metadata": {},
   "outputs": [
    {
     "name": "stdout",
     "output_type": "stream",
     "text": [
      "+------+---------+-----+--------------------+\n",
      "|userid|     auth|level|                page|\n",
      "+------+---------+-----+--------------------+\n",
      "|    10|Cancelled| paid|Cancellation Conf...|\n",
      "|100001|Cancelled| free|Cancellation Conf...|\n",
      "|100003|Cancelled| paid|Cancellation Conf...|\n",
      "|100004|Cancelled| free|Cancellation Conf...|\n",
      "|100005|Cancelled| free|Cancellation Conf...|\n",
      "|100010|Cancelled| free|Cancellation Conf...|\n",
      "|100011|Cancelled| paid|Cancellation Conf...|\n",
      "|100012|Cancelled| free|Cancellation Conf...|\n",
      "|100013|Cancelled| free|Cancellation Conf...|\n",
      "|100014|Cancelled| paid|Cancellation Conf...|\n",
      "|100016|Cancelled| paid|Cancellation Conf...|\n",
      "|100017|Cancelled| free|Cancellation Conf...|\n",
      "|100018|Cancelled| free|Cancellation Conf...|\n",
      "|100023|Cancelled| paid|Cancellation Conf...|\n",
      "|100024|Cancelled| paid|Cancellation Conf...|\n",
      "|100025|Cancelled| free|Cancellation Conf...|\n",
      "|100028|Cancelled| paid|Cancellation Conf...|\n",
      "|100030|Cancelled| paid|Cancellation Conf...|\n",
      "|100032|Cancelled| free|Cancellation Conf...|\n",
      "|100036|Cancelled| free|Cancellation Conf...|\n",
      "+------+---------+-----+--------------------+\n",
      "only showing top 20 rows\n",
      "\n"
     ]
    }
   ],
   "source": [
    "data.select('userid','auth','level','page').where(data['page'] == 'Cancellation Confirmation').sort('userid').show()"
   ]
  },
  {
   "cell_type": "markdown",
   "metadata": {},
   "source": [
    "We can see that when the user is on \"Cancellation Confirmation\" page, their \"auth\" value changes to \"Cancelled\". It can also be seen that both paid and free users might go through cancellation"
   ]
  },
  {
   "cell_type": "markdown",
   "metadata": {},
   "source": [
    "Let's define a function that can identify the rows where cancellation happened"
   ]
  },
  {
   "cell_type": "code",
   "execution_count": 23,
   "metadata": {},
   "outputs": [],
   "source": [
    "find_cancellation = udf(lambda x: 1 if x=='Cancellation Confirmation' else 0, IntegerType())"
   ]
  },
  {
   "cell_type": "markdown",
   "metadata": {},
   "source": [
    "... and apply that function on our dataframe"
   ]
  },
  {
   "cell_type": "code",
   "execution_count": 24,
   "metadata": {},
   "outputs": [],
   "source": [
    "data = data.withColumn('churn', find_cancellation('page'))"
   ]
  },
  {
   "cell_type": "code",
   "execution_count": 25,
   "metadata": {},
   "outputs": [],
   "source": [
    "churned_users = data.where(data['churn']==1).select('userid').dropDuplicates().sort('userid')"
   ]
  },
  {
   "cell_type": "code",
   "execution_count": 26,
   "metadata": {},
   "outputs": [],
   "source": [
    "churned_users_list = [(row['userid']) for row in churned_users.collect()]"
   ]
  },
  {
   "cell_type": "code",
   "execution_count": 27,
   "metadata": {},
   "outputs": [],
   "source": [
    "has_cancelled = udf(lambda x: x in churned_users_list)"
   ]
  },
  {
   "cell_type": "code",
   "execution_count": 28,
   "metadata": {},
   "outputs": [],
   "source": [
    "data = data.withColumn('churned_user', has_cancelled('userid'))"
   ]
  },
  {
   "cell_type": "markdown",
   "metadata": {},
   "source": [
    "Let's see who the churned users are and how they compare to our loyal customers"
   ]
  },
  {
   "cell_type": "code",
   "execution_count": 29,
   "metadata": {},
   "outputs": [],
   "source": [
    "level_churned = data.where(data.churned_user == 'true').groupby('level').count().toPandas()"
   ]
  },
  {
   "cell_type": "code",
   "execution_count": 40,
   "metadata": {},
   "outputs": [
    {
     "data": {
      "text/html": [
       "<div>\n",
       "<style scoped>\n",
       "    .dataframe tbody tr th:only-of-type {\n",
       "        vertical-align: middle;\n",
       "    }\n",
       "\n",
       "    .dataframe tbody tr th {\n",
       "        vertical-align: top;\n",
       "    }\n",
       "\n",
       "    .dataframe thead th {\n",
       "        text-align: right;\n",
       "    }\n",
       "</style>\n",
       "<table border=\"1\" class=\"dataframe\">\n",
       "  <thead>\n",
       "    <tr style=\"text-align: right;\">\n",
       "      <th></th>\n",
       "      <th>level</th>\n",
       "      <th>count</th>\n",
       "    </tr>\n",
       "  </thead>\n",
       "  <tbody>\n",
       "    <tr>\n",
       "      <th>0</th>\n",
       "      <td>free</td>\n",
       "      <td>27494</td>\n",
       "    </tr>\n",
       "    <tr>\n",
       "      <th>1</th>\n",
       "      <td>paid</td>\n",
       "      <td>76152</td>\n",
       "    </tr>\n",
       "  </tbody>\n",
       "</table>\n",
       "</div>"
      ],
      "text/plain": [
       "  level  count\n",
       "0  free  27494\n",
       "1  paid  76152"
      ]
     },
     "execution_count": 40,
     "metadata": {},
     "output_type": "execute_result"
    }
   ],
   "source": [
    "level_churned"
   ]
  },
  {
   "cell_type": "code",
   "execution_count": 30,
   "metadata": {},
   "outputs": [],
   "source": [
    "level_loyal = data.where(data.churned_user == 'false').groupby('level').count().toPandas()"
   ]
  },
  {
   "cell_type": "code",
   "execution_count": 41,
   "metadata": {},
   "outputs": [
    {
     "data": {
      "text/html": [
       "<div>\n",
       "<style scoped>\n",
       "    .dataframe tbody tr th:only-of-type {\n",
       "        vertical-align: middle;\n",
       "    }\n",
       "\n",
       "    .dataframe tbody tr th {\n",
       "        vertical-align: top;\n",
       "    }\n",
       "\n",
       "    .dataframe thead th {\n",
       "        text-align: right;\n",
       "    }\n",
       "</style>\n",
       "<table border=\"1\" class=\"dataframe\">\n",
       "  <thead>\n",
       "    <tr style=\"text-align: right;\">\n",
       "      <th></th>\n",
       "      <th>level</th>\n",
       "      <th>count</th>\n",
       "    </tr>\n",
       "  </thead>\n",
       "  <tbody>\n",
       "    <tr>\n",
       "      <th>0</th>\n",
       "      <td>free</td>\n",
       "      <td>82467</td>\n",
       "    </tr>\n",
       "    <tr>\n",
       "      <th>1</th>\n",
       "      <td>paid</td>\n",
       "      <td>341892</td>\n",
       "    </tr>\n",
       "  </tbody>\n",
       "</table>\n",
       "</div>"
      ],
      "text/plain": [
       "  level   count\n",
       "0  free   82467\n",
       "1  paid  341892"
      ]
     },
     "execution_count": 41,
     "metadata": {},
     "output_type": "execute_result"
    }
   ],
   "source": [
    "level_loyal"
   ]
  },
  {
   "cell_type": "code",
   "execution_count": 42,
   "metadata": {},
   "outputs": [
    {
     "data": {
      "text/plain": [
       "0.19629738354750428"
      ]
     },
     "execution_count": 42,
     "metadata": {},
     "output_type": "execute_result"
    }
   ],
   "source": [
    "overall_churn_rate = level_churned['count'].sum()/(level_churned['count'].sum() + level_loyal['count'].sum())\n",
    "overall_churn_rate"
   ]
  },
  {
   "cell_type": "code",
   "execution_count": 31,
   "metadata": {},
   "outputs": [
    {
     "data": {
      "text/plain": [
       "<matplotlib.axes._subplots.AxesSubplot at 0x7f9ccaf69cc0>"
      ]
     },
     "execution_count": 31,
     "metadata": {},
     "output_type": "execute_result"
    },
    {
     "data": {
      "image/png": "[encoded data removed]",
      "text/plain": [
       "<matplotlib.figure.Figure at 0x7f9d1695f6a0>"
      ]
     },
     "metadata": {},
     "output_type": "display_data"
    }
   ],
   "source": [
    "level_churned.plot.bar(x='level',y='count',title='number of churned users in each level')"
   ]
  },
  {
   "cell_type": "code",
   "execution_count": 32,
   "metadata": {},
   "outputs": [
    {
     "data": {
      "text/plain": [
       "<matplotlib.axes._subplots.AxesSubplot at 0x7f9cc894c4e0>"
      ]
     },
     "execution_count": 32,
     "metadata": {},
     "output_type": "execute_result"
    },
    {
     "data": {
      "image/png": "[encoded data removed]",
      "text/plain": [
       "<matplotlib.figure.Figure at 0x7f9ccaf73550>"
      ]
     },
     "metadata": {},
     "output_type": "display_data"
    }
   ],
   "source": [
    "level_loyal.plot.bar(x='level',y='count', title='number of loyal users in each level')"
   ]
  },
  {
   "cell_type": "markdown",
   "metadata": {},
   "source": [
    "Looks like there is an imbalance in the ratio of free/paid users between churned and loyal customers, in a way that free users are more likely to churn compared to paid users.\n",
    "\n",
    "This is in agreement with our expectations, since free users don't have a committment, and enjoy the service less than paid users due to hearing annoying ads"
   ]
  },
  {
   "cell_type": "markdown",
   "metadata": {},
   "source": [
    "Let's see if there is an imbalance in gender as well"
   ]
  },
  {
   "cell_type": "code",
   "execution_count": 43,
   "metadata": {},
   "outputs": [],
   "source": [
    "gender_churn = data.dropDuplicates(['userid']).groupby(['churned_user','gender']).count().sort('churned_user').toPandas()"
   ]
  },
  {
   "cell_type": "code",
   "execution_count": 44,
   "metadata": {},
   "outputs": [
    {
     "data": {
      "text/html": [
       "<div>\n",
       "<style scoped>\n",
       "    .dataframe tbody tr th:only-of-type {\n",
       "        vertical-align: middle;\n",
       "    }\n",
       "\n",
       "    .dataframe tbody tr th {\n",
       "        vertical-align: top;\n",
       "    }\n",
       "\n",
       "    .dataframe thead th {\n",
       "        text-align: right;\n",
       "    }\n",
       "</style>\n",
       "<table border=\"1\" class=\"dataframe\">\n",
       "  <thead>\n",
       "    <tr style=\"text-align: right;\">\n",
       "      <th></th>\n",
       "      <th>churned_user</th>\n",
       "      <th>gender</th>\n",
       "      <th>count</th>\n",
       "    </tr>\n",
       "  </thead>\n",
       "  <tbody>\n",
       "    <tr>\n",
       "      <th>0</th>\n",
       "      <td>false</td>\n",
       "      <td>M</td>\n",
       "      <td>196</td>\n",
       "    </tr>\n",
       "    <tr>\n",
       "      <th>1</th>\n",
       "      <td>false</td>\n",
       "      <td>F</td>\n",
       "      <td>153</td>\n",
       "    </tr>\n",
       "    <tr>\n",
       "      <th>2</th>\n",
       "      <td>true</td>\n",
       "      <td>F</td>\n",
       "      <td>45</td>\n",
       "    </tr>\n",
       "    <tr>\n",
       "      <th>3</th>\n",
       "      <td>true</td>\n",
       "      <td>M</td>\n",
       "      <td>54</td>\n",
       "    </tr>\n",
       "  </tbody>\n",
       "</table>\n",
       "</div>"
      ],
      "text/plain": [
       "  churned_user gender  count\n",
       "0        false      M    196\n",
       "1        false      F    153\n",
       "2         true      F     45\n",
       "3         true      M     54"
      ]
     },
     "execution_count": 44,
     "metadata": {},
     "output_type": "execute_result"
    }
   ],
   "source": [
    "gender_churn"
   ]
  },
  {
   "cell_type": "code",
   "execution_count": 45,
   "metadata": {},
   "outputs": [],
   "source": [
    "gender_churn.index = ['Loyal_Males','Loyal_Females','Churned_Female','Churned_Male']"
   ]
  },
  {
   "cell_type": "code",
   "execution_count": 46,
   "metadata": {},
   "outputs": [
    {
     "data": {
      "text/html": [
       "<div>\n",
       "<style scoped>\n",
       "    .dataframe tbody tr th:only-of-type {\n",
       "        vertical-align: middle;\n",
       "    }\n",
       "\n",
       "    .dataframe tbody tr th {\n",
       "        vertical-align: top;\n",
       "    }\n",
       "\n",
       "    .dataframe thead th {\n",
       "        text-align: right;\n",
       "    }\n",
       "</style>\n",
       "<table border=\"1\" class=\"dataframe\">\n",
       "  <thead>\n",
       "    <tr style=\"text-align: right;\">\n",
       "      <th></th>\n",
       "      <th>churned_user</th>\n",
       "      <th>gender</th>\n",
       "      <th>count</th>\n",
       "    </tr>\n",
       "  </thead>\n",
       "  <tbody>\n",
       "    <tr>\n",
       "      <th>Loyal_Males</th>\n",
       "      <td>false</td>\n",
       "      <td>M</td>\n",
       "      <td>196</td>\n",
       "    </tr>\n",
       "    <tr>\n",
       "      <th>Loyal_Females</th>\n",
       "      <td>false</td>\n",
       "      <td>F</td>\n",
       "      <td>153</td>\n",
       "    </tr>\n",
       "    <tr>\n",
       "      <th>Churned_Female</th>\n",
       "      <td>true</td>\n",
       "      <td>F</td>\n",
       "      <td>45</td>\n",
       "    </tr>\n",
       "    <tr>\n",
       "      <th>Churned_Male</th>\n",
       "      <td>true</td>\n",
       "      <td>M</td>\n",
       "      <td>54</td>\n",
       "    </tr>\n",
       "  </tbody>\n",
       "</table>\n",
       "</div>"
      ],
      "text/plain": [
       "               churned_user gender  count\n",
       "Loyal_Males           false      M    196\n",
       "Loyal_Females         false      F    153\n",
       "Churned_Female         true      F     45\n",
       "Churned_Male           true      M     54"
      ]
     },
     "execution_count": 46,
     "metadata": {},
     "output_type": "execute_result"
    }
   ],
   "source": [
    "gender_churn"
   ]
  },
  {
   "cell_type": "code",
   "execution_count": 35,
   "metadata": {},
   "outputs": [
    {
     "data": {
      "text/plain": [
       "<matplotlib.axes._subplots.AxesSubplot at 0x7f9cc89b1b70>"
      ]
     },
     "execution_count": 35,
     "metadata": {},
     "output_type": "execute_result"
    },
    {
     "data": {
      "image/png": "[encoded data removed]",
      "text/plain": [
       "<matplotlib.figure.Figure at 0x7f9cc88b6550>"
      ]
     },
     "metadata": {},
     "output_type": "display_data"
    }
   ],
   "source": [
    "gender_churn[gender_churn['churned_user']=='false']['count'].plot.pie()"
   ]
  },
  {
   "cell_type": "code",
   "execution_count": 36,
   "metadata": {},
   "outputs": [
    {
     "data": {
      "text/plain": [
       "<matplotlib.axes._subplots.AxesSubplot at 0x7f9cc89868d0>"
      ]
     },
     "execution_count": 36,
     "metadata": {},
     "output_type": "execute_result"
    },
    {
     "data": {
      "image/png": "[encoded data removed]",
      "text/plain": [
       "<matplotlib.figure.Figure at 0x7f9cc891e3c8>"
      ]
     },
     "metadata": {},
     "output_type": "display_data"
    }
   ],
   "source": [
    "gender_churn[gender_churn['churned_user']=='true']['count'].plot.pie()"
   ]
  },
  {
   "cell_type": "markdown",
   "metadata": {},
   "source": [
    "Given the fact that the number of men in the dataset is larger, it's acceptable that they have a higher ratio than women in both loyal and churned customers"
   ]
  },
  {
   "cell_type": "markdown",
   "metadata": {},
   "source": [
    "Let's check out the location of the users who stayed loyal and the users who churned. I don't expect to see a meaningful correlation between the location and churn rate since there is no clear connection between the two"
   ]
  },
  {
   "cell_type": "code",
   "execution_count": 47,
   "metadata": {},
   "outputs": [],
   "source": [
    "loc_churn = data.dropDuplicates(['userid']).groupby(['location','churned_user']).count().sort(desc('count')).toPandas()"
   ]
  },
  {
   "cell_type": "code",
   "execution_count": 48,
   "metadata": {},
   "outputs": [],
   "source": [
    "loc_churn.set_index('location',drop=True,inplace=True)"
   ]
  },
  {
   "cell_type": "code",
   "execution_count": 49,
   "metadata": {},
   "outputs": [
    {
     "data": {
      "text/html": [
       "<div>\n",
       "<style scoped>\n",
       "    .dataframe tbody tr th:only-of-type {\n",
       "        vertical-align: middle;\n",
       "    }\n",
       "\n",
       "    .dataframe tbody tr th {\n",
       "        vertical-align: top;\n",
       "    }\n",
       "\n",
       "    .dataframe thead th {\n",
       "        text-align: right;\n",
       "    }\n",
       "</style>\n",
       "<table border=\"1\" class=\"dataframe\">\n",
       "  <thead>\n",
       "    <tr style=\"text-align: right;\">\n",
       "      <th></th>\n",
       "      <th>churned_user</th>\n",
       "      <th>count</th>\n",
       "    </tr>\n",
       "    <tr>\n",
       "      <th>location</th>\n",
       "      <th></th>\n",
       "      <th></th>\n",
       "    </tr>\n",
       "  </thead>\n",
       "  <tbody>\n",
       "    <tr>\n",
       "      <th>New York-Newark-Jersey City, NY-NJ-PA</th>\n",
       "      <td>true</td>\n",
       "      <td>8</td>\n",
       "    </tr>\n",
       "    <tr>\n",
       "      <th>Chicago-Naperville-Elgin, IL-IN-WI</th>\n",
       "      <td>true</td>\n",
       "      <td>7</td>\n",
       "    </tr>\n",
       "    <tr>\n",
       "      <th>Los Angeles-Long Beach-Anaheim, CA</th>\n",
       "      <td>true</td>\n",
       "      <td>7</td>\n",
       "    </tr>\n",
       "    <tr>\n",
       "      <th>Atlanta-Sandy Springs-Roswell, GA</th>\n",
       "      <td>true</td>\n",
       "      <td>4</td>\n",
       "    </tr>\n",
       "    <tr>\n",
       "      <th>Philadelphia-Camden-Wilmington, PA-NJ-DE-MD</th>\n",
       "      <td>true</td>\n",
       "      <td>4</td>\n",
       "    </tr>\n",
       "  </tbody>\n",
       "</table>\n",
       "</div>"
      ],
      "text/plain": [
       "                                            churned_user  count\n",
       "location                                                       \n",
       "New York-Newark-Jersey City, NY-NJ-PA               true      8\n",
       "Chicago-Naperville-Elgin, IL-IN-WI                  true      7\n",
       "Los Angeles-Long Beach-Anaheim, CA                  true      7\n",
       "Atlanta-Sandy Springs-Roswell, GA                   true      4\n",
       "Philadelphia-Camden-Wilmington, PA-NJ-DE-MD         true      4"
      ]
     },
     "execution_count": 49,
     "metadata": {},
     "output_type": "execute_result"
    }
   ],
   "source": [
    "loc_churn[loc_churn['churned_user']=='true'].head(5)"
   ]
  },
  {
   "cell_type": "code",
   "execution_count": 50,
   "metadata": {},
   "outputs": [
    {
     "data": {
      "text/plain": [
       "<matplotlib.axes._subplots.AxesSubplot at 0x7f9cc87d8710>"
      ]
     },
     "execution_count": 50,
     "metadata": {},
     "output_type": "execute_result"
    },
    {
     "data": {
      "image/png": "[encoded data removed]",
      "text/plain": [
       "<matplotlib.figure.Figure at 0x7f9cc86b3710>"
      ]
     },
     "metadata": {},
     "output_type": "display_data"
    }
   ],
   "source": [
    "loc_churn.head(10).plot.pie(y='count',legend=False)"
   ]
  },
  {
   "cell_type": "code",
   "execution_count": 51,
   "metadata": {},
   "outputs": [
    {
     "data": {
      "text/plain": [
       "<matplotlib.axes._subplots.AxesSubplot at 0x7f9cc86eeb38>"
      ]
     },
     "execution_count": 51,
     "metadata": {},
     "output_type": "execute_result"
    },
    {
     "data": {
      "image/png": "[encoded data removed]",
      "text/plain": [
       "<matplotlib.figure.Figure at 0x7f9cc873b358>"
      ]
     },
     "metadata": {},
     "output_type": "display_data"
    }
   ],
   "source": [
    "loc_churn[loc_churn['churned_user']=='true'].head(10).plot.pie(y='count',legend=False)"
   ]
  },
  {
   "cell_type": "markdown",
   "metadata": {},
   "source": [
    "It seems that more people from New York dropped the subscription compared to California. However, we cannot generalize that since we don't have enough data points from each region to make a reasonable judgement"
   ]
  },
  {
   "cell_type": "markdown",
   "metadata": {},
   "source": [
    "Now let's look at the pages that churned users and loyal users usually visit"
   ]
  },
  {
   "cell_type": "code",
   "execution_count": 52,
   "metadata": {},
   "outputs": [],
   "source": [
    "churn_pages = data.where(data.churned_user=='true').groupby('page').count()"
   ]
  },
  {
   "cell_type": "code",
   "execution_count": 53,
   "metadata": {},
   "outputs": [],
   "source": [
    "nochurn_pages = data.where(data.churned_user=='false').groupby('page').count()"
   ]
  },
  {
   "cell_type": "code",
   "execution_count": 54,
   "metadata": {},
   "outputs": [
    {
     "name": "stdout",
     "output_type": "stream",
     "text": [
      "+--------------------+-----+\n",
      "|                page|count|\n",
      "+--------------------+-----+\n",
      "|              Cancel|   99|\n",
      "|    Submit Downgrade|   29|\n",
      "|         Thumbs Down| 1156|\n",
      "|                Home| 3778|\n",
      "|           Downgrade|  831|\n",
      "|         Roll Advert| 2186|\n",
      "|              Logout| 1184|\n",
      "|       Save Settings|  104|\n",
      "|Cancellation Conf...|   99|\n",
      "|               About|  185|\n",
      "|            Settings|  619|\n",
      "|     Add to Playlist| 2259|\n",
      "|          Add Friend| 1537|\n",
      "|            NextSong|84359|\n",
      "|           Thumbs Up| 4300|\n",
      "|                Help|  517|\n",
      "|             Upgrade|  237|\n",
      "|               Error|   97|\n",
      "|      Submit Upgrade|   70|\n",
      "+--------------------+-----+\n",
      "\n"
     ]
    }
   ],
   "source": [
    "churn_pages.show()"
   ]
  },
  {
   "cell_type": "code",
   "execution_count": 55,
   "metadata": {},
   "outputs": [
    {
     "name": "stdout",
     "output_type": "stream",
     "text": [
      "+----------------+------+\n",
      "|            page| count|\n",
      "+----------------+------+\n",
      "|Submit Downgrade|    88|\n",
      "|     Thumbs Down|  3755|\n",
      "|            Home| 15311|\n",
      "|       Downgrade|  2980|\n",
      "|     Roll Advert|  5587|\n",
      "|          Logout|  4806|\n",
      "|   Save Settings|   481|\n",
      "|           About|   841|\n",
      "|        Settings|  2345|\n",
      "| Add to Playlist| 10090|\n",
      "|      Add Friend|  6550|\n",
      "|        NextSong|348518|\n",
      "|       Thumbs Up| 19526|\n",
      "|            Help|  2127|\n",
      "|         Upgrade|   731|\n",
      "|           Error|   406|\n",
      "|  Submit Upgrade|   217|\n",
      "+----------------+------+\n",
      "\n"
     ]
    }
   ],
   "source": [
    "nochurn_pages.show()"
   ]
  },
  {
   "cell_type": "markdown",
   "metadata": {},
   "source": [
    "Let's get the total number of pages churned users visited"
   ]
  },
  {
   "cell_type": "code",
   "execution_count": 56,
   "metadata": {},
   "outputs": [],
   "source": [
    "total_churned = data.filter(data.churned_user=='true').count()"
   ]
  },
  {
   "cell_type": "markdown",
   "metadata": {},
   "source": [
    "and do the same thing for loyal users"
   ]
  },
  {
   "cell_type": "code",
   "execution_count": 57,
   "metadata": {},
   "outputs": [],
   "source": [
    "total_loyal = data.filter(data.churned_user=='false').count()"
   ]
  },
  {
   "cell_type": "code",
   "execution_count": 58,
   "metadata": {},
   "outputs": [],
   "source": [
    "churn_pages = churn_pages.withColumn('page_visit_churn', 100*churn_pages['count']/total_churned).sort('page')"
   ]
  },
  {
   "cell_type": "code",
   "execution_count": 59,
   "metadata": {},
   "outputs": [],
   "source": [
    "nochurn_pages = nochurn_pages.withColumn('page_visit_loyal', 100*nochurn_pages['count']/total_loyal).sort('page')"
   ]
  },
  {
   "cell_type": "markdown",
   "metadata": {},
   "source": [
    "Now we need to plot the ratios to see if there is a significant difference between the pages that loyal and churned customers visit.\n",
    "\n",
    "Note that some pages such as \"Cancellation Confirmation\" only appear in churn pages so we need to do an outer join"
   ]
  },
  {
   "cell_type": "code",
   "execution_count": 60,
   "metadata": {},
   "outputs": [],
   "source": [
    "joined_pages = churn_pages.join(nochurn_pages, \"page\", \"outer\").drop(\"count\").toPandas()"
   ]
  },
  {
   "cell_type": "code",
   "execution_count": 61,
   "metadata": {},
   "outputs": [
    {
     "data": {
      "text/plain": [
       "<matplotlib.axes._subplots.AxesSubplot at 0x7f9cc8677ba8>"
      ]
     },
     "execution_count": 61,
     "metadata": {},
     "output_type": "execute_result"
    },
    {
     "data": {
      "image/png": "[encoded data removed]",
      "text/plain": [
       "<matplotlib.figure.Figure at 0x7f9cc86a97b8>"
      ]
     },
     "metadata": {},
     "output_type": "display_data"
    }
   ],
   "source": [
    "joined_pages.plot.bar('page')"
   ]
  },
  {
   "cell_type": "markdown",
   "metadata": {},
   "source": [
    "\"NextSong\" Column is dominating so we can't see the rest of the columns. let's drop it and look at the data again"
   ]
  },
  {
   "cell_type": "code",
   "execution_count": 62,
   "metadata": {},
   "outputs": [],
   "source": [
    "joined_pages = joined_pages[joined_pages['page'] != \"NextSong\"]"
   ]
  },
  {
   "cell_type": "code",
   "execution_count": 63,
   "metadata": {},
   "outputs": [
    {
     "data": {
      "text/plain": [
       "<matplotlib.axes._subplots.AxesSubplot at 0x7f9cc8655390>"
      ]
     },
     "execution_count": 63,
     "metadata": {},
     "output_type": "execute_result"
    },
    {
     "data": {
      "image/png": "[encoded data removed]",
      "text/plain": [
       "<matplotlib.figure.Figure at 0x7f9cc861a128>"
      ]
     },
     "metadata": {},
     "output_type": "display_data"
    }
   ],
   "source": [
    "joined_pages.plot.bar('page')"
   ]
  },
  {
   "cell_type": "markdown",
   "metadata": {},
   "source": [
    "From the plot it can be inferred that users who see an ad or give a thumbs down are more likely to churn. On contrary, giving thumbs up is more likely in loyal customers."
   ]
  },
  {
   "cell_type": "markdown",
   "metadata": {},
   "source": [
    "# Methodology"
   ]
  },
  {
   "cell_type": "markdown",
   "metadata": {},
   "source": [
    "## Data Preprocessing & Feature Engineering"
   ]
  },
  {
   "cell_type": "markdown",
   "metadata": {},
   "source": [
    "We looked at the ratio of free vs paid users who cancel their membership in the previous section and found a significant difference between the groups. So the \"level\" of membership will be our first feature"
   ]
  },
  {
   "cell_type": "markdown",
   "metadata": {},
   "source": [
    "**1- We'll check to see if any member is currently a paid member**"
   ]
  },
  {
   "cell_type": "code",
   "execution_count": 64,
   "metadata": {},
   "outputs": [],
   "source": [
    "user_paid = data.groupby(\"userid\", \"level\").agg(max(data.ts).alias(\"finalTime\")).sort(\"userid\")"
   ]
  },
  {
   "cell_type": "code",
   "execution_count": 65,
   "metadata": {},
   "outputs": [
    {
     "name": "stdout",
     "output_type": "stream",
     "text": [
      "+------+-----+-------------+\n",
      "|userid|level|    finalTime|\n",
      "+------+-----+-------------+\n",
      "|    10| paid|1539055364000|\n",
      "|   100| paid|1543606468000|\n",
      "|   100| free|1538477683000|\n",
      "|100001| free|1538491859000|\n",
      "|100002| paid|1541146209000|\n",
      "+------+-----+-------------+\n",
      "only showing top 5 rows\n",
      "\n"
     ]
    }
   ],
   "source": [
    "user_paid.show(5)"
   ]
  },
  {
   "cell_type": "markdown",
   "metadata": {},
   "source": [
    "check out userId 100, it looks like this user has logged in the system with both free and paid memberships during different periods of time. We need to look at the most recent recording"
   ]
  },
  {
   "cell_type": "code",
   "execution_count": 66,
   "metadata": {},
   "outputs": [],
   "source": [
    "user_recent_level_time = user_paid.groupby(\"userid\").agg(max(user_paid.finalTime).alias(\"recent\"))"
   ]
  },
  {
   "cell_type": "code",
   "execution_count": 67,
   "metadata": {},
   "outputs": [],
   "source": [
    "user_recent_level = user_recent_level_time\\\n",
    "    .join(user_paid, [user_paid.userid == user_recent_level_time.userid, user_recent_level_time.recent == user_paid.finalTime])\\\n",
    "    .select(user_paid.userid, \"level\")\\\n",
    "    .sort(\"userid\")"
   ]
  },
  {
   "cell_type": "code",
   "execution_count": 68,
   "metadata": {},
   "outputs": [],
   "source": [
    "user_recent_level = user_recent_level.replace([\"free\", \"paid\"], [\"0\", \"1\"], \"level\")\n",
    "user_recent_level = user_recent_level.select(\"userid\", user_recent_level.level.cast(\"int\"))"
   ]
  },
  {
   "cell_type": "code",
   "execution_count": 69,
   "metadata": {},
   "outputs": [
    {
     "name": "stdout",
     "output_type": "stream",
     "text": [
      "+------+-----+\n",
      "|userid|level|\n",
      "+------+-----+\n",
      "|    10|    1|\n",
      "|   100|    1|\n",
      "|100001|    0|\n",
      "|100002|    0|\n",
      "|100003|    1|\n",
      "+------+-----+\n",
      "only showing top 5 rows\n",
      "\n"
     ]
    }
   ],
   "source": [
    "user_recent_level.show(5)"
   ]
  },
  {
   "cell_type": "markdown",
   "metadata": {},
   "source": [
    "**2- Let's study gender as a feature**\n",
    "\n",
    "There was a difference in the ratio of men vs women in the dataset. This difference might be helpful in predicting churn rate\n"
   ]
  },
  {
   "cell_type": "code",
   "execution_count": 70,
   "metadata": {},
   "outputs": [],
   "source": [
    "gender = data.select(['userid','gender']).dropDuplicates()"
   ]
  },
  {
   "cell_type": "code",
   "execution_count": 71,
   "metadata": {},
   "outputs": [],
   "source": [
    "gender = gender.replace(['M','F'],['0','1'],'gender').sort('userid')"
   ]
  },
  {
   "cell_type": "code",
   "execution_count": 72,
   "metadata": {},
   "outputs": [],
   "source": [
    "gender = gender.select('userid', gender.gender.cast(\"int\"))"
   ]
  },
  {
   "cell_type": "code",
   "execution_count": 73,
   "metadata": {},
   "outputs": [
    {
     "name": "stdout",
     "output_type": "stream",
     "text": [
      "+------+------+\n",
      "|userid|gender|\n",
      "+------+------+\n",
      "|    10|     0|\n",
      "|   100|     0|\n",
      "|100001|     1|\n",
      "|100002|     1|\n",
      "|100003|     1|\n",
      "+------+------+\n",
      "only showing top 5 rows\n",
      "\n"
     ]
    }
   ],
   "source": [
    "gender.show(5)"
   ]
  },
  {
   "cell_type": "markdown",
   "metadata": {},
   "source": [
    "3- **Number of sessions** can be an indicator of how many times the user has used the service. This will be our next feature"
   ]
  },
  {
   "cell_type": "code",
   "execution_count": 74,
   "metadata": {},
   "outputs": [],
   "source": [
    "num_sessions = data.select(['userid', 'sessionid']).dropDuplicates().groupby('userid').count()"
   ]
  },
  {
   "cell_type": "code",
   "execution_count": 75,
   "metadata": {},
   "outputs": [
    {
     "name": "stdout",
     "output_type": "stream",
     "text": [
      "+------+-----+\n",
      "|userid|count|\n",
      "+------+-----+\n",
      "|100010|    2|\n",
      "|200002|    5|\n",
      "|   296|    5|\n",
      "|   125|    3|\n",
      "|     7|   15|\n",
      "+------+-----+\n",
      "only showing top 5 rows\n",
      "\n"
     ]
    }
   ],
   "source": [
    "num_sessions.show(5)"
   ]
  },
  {
   "cell_type": "markdown",
   "metadata": {},
   "source": [
    "We also looked at the frequency of visiting each page for churned and loyal users. \n",
    "\n",
    "4- **Average Time Per Session**"
   ]
  },
  {
   "cell_type": "code",
   "execution_count": 76,
   "metadata": {},
   "outputs": [],
   "source": [
    "user_time = data.groupby('userid', 'sessionid').agg(((max(data.ts)-min(data.ts))/60000).alias('sessiontime'))"
   ]
  },
  {
   "cell_type": "code",
   "execution_count": 77,
   "metadata": {},
   "outputs": [],
   "source": [
    "avg_time = user_time.groupby('userid').agg(avg(user_time.sessiontime)).alias('avg_time').sort('userid')"
   ]
  },
  {
   "cell_type": "code",
   "execution_count": 78,
   "metadata": {},
   "outputs": [
    {
     "name": "stdout",
     "output_type": "stream",
     "text": [
      "+------+------------------+\n",
      "|userid|  avg(sessiontime)|\n",
      "+------+------------------+\n",
      "|    10|            1502.4|\n",
      "|   100| 350.4777777777778|\n",
      "|100001|137.66111111111113|\n",
      "|100002|          150.2625|\n",
      "|100003|296.92777777777775|\n",
      "+------+------------------+\n",
      "only showing top 5 rows\n",
      "\n"
     ]
    }
   ],
   "source": [
    "avg_time.show(5)"
   ]
  },
  {
   "cell_type": "markdown",
   "metadata": {},
   "source": [
    "**TARGET: Churn**\n",
    "\n",
    "Our target was predicting churn rate, which was defined above. We need to create a column for our target along with features to train our machine learning models"
   ]
  },
  {
   "cell_type": "code",
   "execution_count": 79,
   "metadata": {},
   "outputs": [],
   "source": [
    "churned = data.replace([\"false\", \"true\"], [\"0\", \"1\"], \"churned_user\")\n",
    "churned = churned.select(\"userid\", churned.churned_user.cast(\"int\"))"
   ]
  },
  {
   "cell_type": "code",
   "execution_count": 80,
   "metadata": {},
   "outputs": [],
   "source": [
    "churned = churned.select(\"userid\", \"churned_user\").dropDuplicates()"
   ]
  },
  {
   "cell_type": "code",
   "execution_count": 81,
   "metadata": {},
   "outputs": [
    {
     "name": "stdout",
     "output_type": "stream",
     "text": [
      "+------+------------+\n",
      "|userid|churned_user|\n",
      "+------+------------+\n",
      "|    19|           0|\n",
      "|    73|           0|\n",
      "|   209|           0|\n",
      "|100005|           1|\n",
      "|100030|           1|\n",
      "+------+------------+\n",
      "only showing top 5 rows\n",
      "\n"
     ]
    }
   ],
   "source": [
    "churned.show(5)"
   ]
  },
  {
   "cell_type": "markdown",
   "metadata": {},
   "source": [
    "Now it's time to construct the dataframe that contains features and the target. The features that we have built so far have two columns each, one for userid and the other for the constructed feature. Therefore, we can build the final features dataframe by joining the constructed features together"
   ]
  },
  {
   "cell_type": "markdown",
   "metadata": {},
   "source": [
    "We need to rename the userid column in one of the dataframes everytime we are joining them, so that we can drop one and keep the other"
   ]
  },
  {
   "cell_type": "code",
   "execution_count": 94,
   "metadata": {},
   "outputs": [],
   "source": [
    "gender = gender.withColumnRenamed('userid','userid_drop')\n",
    "features = user_recent_level.join(gender, user_recent_level.userid == gender.userid_drop, 'inner').drop('userid_drop')"
   ]
  },
  {
   "cell_type": "code",
   "execution_count": 95,
   "metadata": {},
   "outputs": [],
   "source": [
    "num_sessions = num_sessions.withColumnRenamed('userid', 'userid_drop')\n",
    "features = features.join(num_sessions, features.userid == num_sessions.userid_drop, 'inner').drop('userid_drop')"
   ]
  },
  {
   "cell_type": "code",
   "execution_count": 96,
   "metadata": {},
   "outputs": [],
   "source": [
    "avg_time = avg_time.withColumnRenamed('userid', 'userid_drop')\n",
    "features = features.join(avg_time, features.userid == avg_time.userid_drop, 'inner').drop('userid_drop')"
   ]
  },
  {
   "cell_type": "code",
   "execution_count": 97,
   "metadata": {},
   "outputs": [],
   "source": [
    "churned = churned.withColumnRenamed('userid', 'userid_drop')\n",
    "features = features.join(churned, features.userid == churned.userid_drop, 'inner').drop('userid_drop')"
   ]
  },
  {
   "cell_type": "code",
   "execution_count": 98,
   "metadata": {},
   "outputs": [],
   "source": [
    "features = features.withColumnRenamed('avg(sessiontime)','avg_time')"
   ]
  },
  {
   "cell_type": "code",
   "execution_count": 99,
   "metadata": {},
   "outputs": [
    {
     "name": "stdout",
     "output_type": "stream",
     "text": [
      "+------+-----+------+-----+------------------+------------+\n",
      "|userid|level|gender|count|          avg_time|churned_user|\n",
      "+------+-----+------+-----+------------------+------------+\n",
      "|100010|    0|     1|    2|           210.375|           1|\n",
      "|200002|    1|     0|    5|263.06000000000006|           1|\n",
      "|   296|    1|     1|    5| 97.03666666666666|           1|\n",
      "|   125|    0|     0|    3| 84.98333333333333|           0|\n",
      "|   124|    1|     1|   17| 445.6676470588235|           1|\n",
      "+------+-----+------+-----+------------------+------------+\n",
      "only showing top 5 rows\n",
      "\n"
     ]
    }
   ],
   "source": [
    "features.show(5)"
   ]
  },
  {
   "cell_type": "markdown",
   "metadata": {},
   "source": [
    "We need to convert all the columns to numeric values"
   ]
  },
  {
   "cell_type": "code",
   "execution_count": 100,
   "metadata": {},
   "outputs": [],
   "source": [
    "for col in features.columns[1:]:\n",
    "    features = features.withColumn(col+'_numeric', features[col].cast(\"float\"))\n",
    "    features = features.drop(col)"
   ]
  },
  {
   "cell_type": "code",
   "execution_count": 101,
   "metadata": {},
   "outputs": [
    {
     "name": "stdout",
     "output_type": "stream",
     "text": [
      "+------+-------------+--------------+-------------+----------------+--------------------+\n",
      "|userid|level_numeric|gender_numeric|count_numeric|avg_time_numeric|churned_user_numeric|\n",
      "+------+-------------+--------------+-------------+----------------+--------------------+\n",
      "|100010|          0.0|           1.0|          2.0|         210.375|                 1.0|\n",
      "|200002|          1.0|           0.0|          5.0|          263.06|                 1.0|\n",
      "|   296|          1.0|           1.0|          5.0|        97.03667|                 1.0|\n",
      "|   125|          0.0|           0.0|          3.0|        84.98333|                 0.0|\n",
      "|   124|          1.0|           1.0|         17.0|       445.66763|                 1.0|\n",
      "+------+-------------+--------------+-------------+----------------+--------------------+\n",
      "only showing top 5 rows\n",
      "\n"
     ]
    }
   ],
   "source": [
    "features.show(5)"
   ]
  },
  {
   "cell_type": "markdown",
   "metadata": {},
   "source": [
    "## Implementation"
   ]
  },
  {
   "cell_type": "markdown",
   "metadata": {},
   "source": [
    "Let's split the full dataset into train, test, and validation sets. We will test out several of the machine learning methods that are built into PySpark. We'll evaluate the accuracy of the various models, tuning parameters as necessary and determine our winning model based on test accuracy and report results on the validation set. Since the churned users are a fairly small subset, we will be using F1 score as the metric to optimize"
   ]
  },
  {
   "cell_type": "code",
   "execution_count": 102,
   "metadata": {},
   "outputs": [],
   "source": [
    "assembler = VectorAssembler(inputCols=features.columns[1:-1], outputCol=\"NumFeatures\")\n",
    "transformed_features = assembler.transform(features)"
   ]
  },
  {
   "cell_type": "code",
   "execution_count": 103,
   "metadata": {},
   "outputs": [],
   "source": [
    "scaler = StandardScaler(inputCol=\"NumFeatures\", outputCol=\"ScaledNumFeatures\", withStd=True)\n",
    "scalerModel = scaler.fit(transformed_features)\n",
    "transformed_features = scalerModel.transform(transformed_features)"
   ]
  },
  {
   "cell_type": "code",
   "execution_count": 104,
   "metadata": {},
   "outputs": [],
   "source": [
    "transformed_features = transformed_features.select(transformed_features.churned_user_numeric.alias(\"label\"), transformed_features.ScaledNumFeatures.alias(\"features\"))"
   ]
  },
  {
   "cell_type": "code",
   "execution_count": 105,
   "metadata": {},
   "outputs": [],
   "source": [
    "train, rest = transformed_features.randomSplit([0.6, 0.4], seed=42)\n",
    "\n",
    "test, validation = rest.randomSplit([0.5, 0.5], seed=42)\n"
   ]
  },
  {
   "cell_type": "markdown",
   "metadata": {},
   "source": [
    "Our first candidate for the ML model will be linear logistic regression."
   ]
  },
  {
   "cell_type": "code",
   "execution_count": 106,
   "metadata": {},
   "outputs": [],
   "source": [
    "lr =  LogisticRegression()\n",
    "lrModel = lr.fit(train)"
   ]
  },
  {
   "cell_type": "code",
   "execution_count": 107,
   "metadata": {},
   "outputs": [],
   "source": [
    "def analyze_predictions(model, test):\n",
    "    '''\n",
    "    INPUTS: model: an instance of a machine learning algorithm model,\n",
    "    test: test dataframe to compare predictions\n",
    "    \n",
    "    Description: calculates predictions and prints F1 score of the model\n",
    "    when comparing the predictions with test data\n",
    "    \n",
    "    '''\n",
    "    results = model.transform(test)\n",
    "    results = results.select(['prediction','label'])\n",
    "    predictionAndLabels=results.rdd\n",
    "    metrics = MulticlassMetrics(predictionAndLabels)\n",
    "    cm=metrics.confusionMatrix().toArray()\n",
    "    accuracy=(cm[0][0]+cm[1][1])/cm.sum()\n",
    "    precision=(cm[0][0])/(cm[0][0]+cm[1][0])\n",
    "    recall=(cm[0][0])/(cm[0][0]+cm[0][1])\n",
    "    f1 = (2*precision*recall)/(precision+recall)\n",
    "    print(\"f1 score:\",f1)"
   ]
  },
  {
   "cell_type": "code",
   "execution_count": 108,
   "metadata": {},
   "outputs": [
    {
     "name": "stdout",
     "output_type": "stream",
     "text": [
      "f1 score: 0.693333333333\n"
     ]
    }
   ],
   "source": [
    "analyze_predictions(lrModel,test)"
   ]
  },
  {
   "cell_type": "markdown",
   "metadata": {},
   "source": [
    "Let's see if we cann get better performance out of Decision Trees"
   ]
  },
  {
   "cell_type": "code",
   "execution_count": 109,
   "metadata": {},
   "outputs": [],
   "source": [
    "dt = DecisionTreeClassifier()\n",
    "dtModel = dt.fit(train)"
   ]
  },
  {
   "cell_type": "code",
   "execution_count": 110,
   "metadata": {},
   "outputs": [
    {
     "name": "stdout",
     "output_type": "stream",
     "text": [
      "f1 score: 0.657534246575\n"
     ]
    }
   ],
   "source": [
    "analyze_predictions(dtModel, test)"
   ]
  },
  {
   "cell_type": "markdown",
   "metadata": {},
   "source": [
    "Ensemble methods: RandomForestClassifier\n",
    "\n",
    "Let's see if we can get a better performance by using ensemble methods"
   ]
  },
  {
   "cell_type": "code",
   "execution_count": 112,
   "metadata": {},
   "outputs": [],
   "source": [
    "rf = RandomForestClassifier()\n",
    "rfModel = rf.fit(train)"
   ]
  },
  {
   "cell_type": "code",
   "execution_count": 113,
   "metadata": {},
   "outputs": [
    {
     "name": "stdout",
     "output_type": "stream",
     "text": [
      "f1 score: 0.693333333333\n"
     ]
    }
   ],
   "source": [
    "analyze_predictions(rfModel, test)"
   ]
  },
  {
   "cell_type": "markdown",
   "metadata": {},
   "source": [
    "## Refinement\n",
    "\n",
    "Now it's time to change the parameters of the models to get a better performance. \n",
    "\n",
    "As for logistic regression model, we can change elasticNetParam pr regParam\n",
    "\n",
    "In Decision Tree and Random Forests, we can try changing impurity and maxDepth\n",
    "\n",
    "Since the training time is extremely long for the large dataset, we'll use small number of parameters to choose from"
   ]
  },
  {
   "cell_type": "code",
   "execution_count": 114,
   "metadata": {},
   "outputs": [],
   "source": [
    "lr =  LogisticRegression()\n",
    "paramGrid = ParamGridBuilder().addGrid(lr.elasticNetParam,[0.1, 1.0]).build()\n",
    "\n",
    "cv = CrossValidator(estimator=lr, estimatorParamMaps=paramGrid, evaluator=MulticlassClassificationEvaluator(), numFolds=2)\n",
    "cvlr = cv.fit(train)"
   ]
  },
  {
   "cell_type": "code",
   "execution_count": 115,
   "metadata": {},
   "outputs": [
    {
     "name": "stdout",
     "output_type": "stream",
     "text": [
      "f1 score: 0.693333333333\n"
     ]
    }
   ],
   "source": [
    "analyze_predictions(cvlr, test)"
   ]
  },
  {
   "cell_type": "code",
   "execution_count": 117,
   "metadata": {},
   "outputs": [],
   "source": [
    "rf = RandomForestClassifier()\n",
    "\n",
    "paramGrid = ParamGridBuilder().addGrid(rf.maxDepth,[3, 10]).build()\n",
    "cv2 = CrossValidator(estimator=rf, estimatorParamMaps=paramGrid, evaluator=MulticlassClassificationEvaluator(), numFolds=2)\n",
    "cvrf = cv2.fit(train)"
   ]
  },
  {
   "cell_type": "code",
   "execution_count": 118,
   "metadata": {},
   "outputs": [
    {
     "name": "stdout",
     "output_type": "stream",
     "text": [
      "f1 score: 0.694444444444\n"
     ]
    }
   ],
   "source": [
    "analyze_predictions(cvrf, test)"
   ]
  },
  {
   "cell_type": "markdown",
   "metadata": {},
   "source": [
    "It looks like we have a slight improvement in the performance of random forest classifier by implementing a grid search over maximum depth. On the other hand, an improvement was not observed with the logistic regression model. \n",
    "\n",
    "Given the fact that training the models were extremely time consuming, we decided to perform grid search on a limited number of parameters. However, there should be room for improvement if grid search was performed over a larger set of parameters. Top candidates for grid search on random forests would be number of estimator and minimum sample split parameters. "
   ]
  },
  {
   "cell_type": "markdown",
   "metadata": {},
   "source": [
    "# Results"
   ]
  },
  {
   "cell_type": "markdown",
   "metadata": {},
   "source": [
    "## Model Evaluation and Validation"
   ]
  },
  {
   "cell_type": "markdown",
   "metadata": {},
   "source": [
    "Given the performance of the models, we will be choosing the random forest classifier as the final model. this model is named cvrf. \n",
    "\n",
    "We wil be analyzing the performance of the random forest classifier on the validation data set to report the final F1 score of the model.\n",
    "\n",
    "Thankfully, we have already written a function to calculate the f1 score for any model and a validation data set. "
   ]
  },
  {
   "cell_type": "code",
   "execution_count": 119,
   "metadata": {},
   "outputs": [
    {
     "name": "stdout",
     "output_type": "stream",
     "text": [
      "f1 score: 0.861244019139\n"
     ]
    }
   ],
   "source": [
    "analyze_predictions(cvrf, validation)"
   ]
  },
  {
   "cell_type": "markdown",
   "metadata": {},
   "source": [
    "Our final model, has a F1 score of 0.86 which is close enough to 1, therefore the model can be accepted as final. Note that F1 score is a function of precision and recall, and both type I and type II errors would punish the F1 score equally. This means that when high F1 scores are achieved, both type I and type II errors are minimal. \n",
    "\n",
    "\n"
   ]
  },
  {
   "cell_type": "markdown",
   "metadata": {},
   "source": [
    "## Justification"
   ]
  },
  {
   "cell_type": "markdown",
   "metadata": {},
   "source": [
    "Our final model, which is a random forest classifier, has outperformed logistic regression and decision trees. This is not surprising given the fact that logistic regression is a linear classifier and may fall short of classifying more complex problems. On the other hand, a random forest is an ensemble of decision trees, in a way that each tree tries to compensate for the error in another one. Thus creating a group that is stronger than a single decision tree.\n",
    "\n",
    "A grid search over the parameters of the random forest classifier helps us reduce bias and increase F1 score. \n",
    "\n",
    "In this project, due to extremely slow speed of grid search over large data sets such as in this case, we chose to perform grid search over a single parameter with only two options. This was just the proof of concept and of course the model can be improved further by performing grid search over a larger number of parameters as well as values for each parameter. However, we only expect to see slight improvements in the F1 score of the model by performing a more extensive grid search. Based on our experience in the past, significant improvements can only happen due to meaningful change in the features or algorithm rather than the parameters of the model. \n"
   ]
  },
  {
   "cell_type": "markdown",
   "metadata": {},
   "source": [
    "# Conclusion\n",
    "\n",
    "## Reflection\n",
    "\n",
    "In this project we looked at a large (half a million rows) of data about how users of a digital media provider interacted with the service. We had data about which pages they visited, which songs they listened to, their gender, the exact time of interaction and etc.\n",
    "\n",
    "Our goal was to understand which users are more likely to churn (cancel their subscription) in order to enable our marketing team to offer them incentives such as a lower fee to avoid losing customers. \n",
    "\n",
    "We explored the data and decided to build four features; gender, subscription type, number of opened sessions and average time spent on each session. Our target was to predict whether the user would churn or not.\n",
    "\n",
    "We trained three machine learning algorithms, a logistic regression model, a decision tree and also a random forest classifier. \n",
    "\n",
    "Our initial results indicated that logistic regression and random forest classifiers were performing better than the decision tree.\n",
    "\n",
    "So we did fine-tuning and performed grid search on logistic regression and random forest classifiers.\n",
    "\n",
    "After fine tuning, the random forest classifier was selected as the best model with a validation F1 score of 0.86\n",
    "\n",
    "This project was very interesting given the fact that it represents a real world and common problem. Most of the businesses today deal with customers and need to hold on to their customers for maximum profits. \n",
    "\n",
    "\n"
   ]
  },
  {
   "cell_type": "markdown",
   "metadata": {},
   "source": [
    "## Improvement\n",
    "\n",
    "While the final F1 score was good enough, there is still room for improvement.\n",
    "\n",
    "One way of making a significant improvement would be to separate paid users from free tier users. This way the features can be built tailored to the group of interest. For example, the number of ads seen and the length of ads would be prime candidates for feature selection for the free tier users. On the other hand, the premium users don't see any ads but the might get bored with the service. Meaning that they might use the service for a while, get tired of the songs they have always listened to and if they don't look for new songs and find new artists that they like, they might get bored and cancel their premium subscription. In this case, our work as data scientist wouldn't end here and we'd need to design a great recommendation engine for the users as well!"
   ]
  },
  {
   "cell_type": "code",
   "execution_count": null,
   "metadata": {},
   "outputs": [],
   "source": []
  }
 ],
 "metadata": {
  "kernelspec": {
   "display_name": "Python 3.5 with Spark",
   "language": "python3",
   "name": "python3"
  },
  "language_info": {
   "codemirror_mode": {
    "name": "ipython",
    "version": 3
   },
   "file_extension": ".py",
   "mimetype": "text/x-python",
   "name": "python",
   "nbconvert_exporter": "python",
   "pygments_lexer": "ipython3",
   "version": "3.5.4"
  }
 },
 "nbformat": 4,
 "nbformat_minor": 1
}
